{
 "cells": [
  {
   "cell_type": "code",
   "execution_count": 1,
   "metadata": {},
   "outputs": [
    {
     "name": "stdout",
     "output_type": "stream",
     "text": [
      "Матричное умножение [0.15416284 0.7400497  0.26331502] и [[0.53373939 0.01457496 0.91874701 0.90071485]\n",
      " [0.03342143 0.95694934 0.13720932 0.28382835]\n",
      " [0.60608318 0.94422514 0.85273554 0.00225923]] = [0.2666071  0.95906564 0.46771644 0.34949874]\n"
     ]
    }
   ],
   "source": [
    "import numpy as np\n",
    "\n",
    "def seed(seed_value):\n",
    "    np.random.seed(seed_value)\n",
    "    vec_1 = np.random.rand(3)\n",
    "    mat_1 = np.random.rand(3, 4)\n",
    "\n",
    "    return vec_1, mat_1\n",
    "\n",
    "def matrix_arithmetic(vec_1, mat_1):\n",
    "\n",
    "    # vec_2 = np.dot(vec_1, mat_1)\n",
    "    # print(mat_1, \"\\n\", np.transpose(mat_1))\n",
    "    # vec_2 = np.matmul(vec_1, mat_1)\n",
    "    vec_2 = np.matmul(np.transpose(mat_1), vec_1)\n",
    "\n",
    "    return vec_2\n",
    "\n",
    "print(f\"Матричное умножение {seed(12)[0]} и {seed(12)[1]} = {matrix_arithmetic(seed(12)[0],seed(12)[1])}\")"
   ]
  }
 ],
 "metadata": {
  "kernelspec": {
   "display_name": "env",
   "language": "python",
   "name": "python3"
  },
  "language_info": {
   "codemirror_mode": {
    "name": "ipython",
    "version": 3
   },
   "file_extension": ".py",
   "mimetype": "text/x-python",
   "name": "python",
   "nbconvert_exporter": "python",
   "pygments_lexer": "ipython3",
   "version": "3.11.4"
  }
 },
 "nbformat": 4,
 "nbformat_minor": 2
}
