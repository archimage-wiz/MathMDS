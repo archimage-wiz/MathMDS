{
 "cells": [
  {
   "cell_type": "code",
   "execution_count": 1,
   "metadata": {},
   "outputs": [
    {
     "name": "stdout",
     "output_type": "stream",
     "text": [
      "Первая производная f'(5) = 277\n",
      "Вторая производная f'(5) = 116\n",
      "Первая производная f'(-2) = 53\n",
      "Вторая производная f'(-2) = -52\n",
      "Первая производная f'(0) = -3\n",
      "Вторая производная f'(0) = -4\n"
     ]
    }
   ],
   "source": [
    "import random\n",
    "\n",
    "def seed(seed):\n",
    "    random.seed(seed)\n",
    "    val1 = random.choice(range(-10,11))\n",
    "    return val1\n",
    "\n",
    "def function_1(x):\n",
    "    return 4*x**3 - 2*x**2 - 3*x + 3\n",
    "\n",
    "\n",
    "def first_derivative_1(x):\n",
    "    # Правильный ответ \n",
    "    return 12*x**2 - 4*x - 3\n",
    "\n",
    "def second_derivative_1(x):\n",
    "    # Правильный ответ \n",
    "    return 24*x - 4\n",
    "\n",
    "    \n",
    "print(f\"Первая производная f'({seed(12)}) = {first_derivative_1(seed(12))}\")\n",
    "print(f\"Вторая производная f'({seed(12)}) = {second_derivative_1(seed(12))}\")\n",
    "print(f\"Первая производная f'({seed(45)}) = {first_derivative_1(seed(45))}\")\n",
    "print(f\"Вторая производная f'({seed(45)}) = {second_derivative_1(seed(45))}\")\n",
    "print(f\"Первая производная f'({seed(7)}) = {first_derivative_1(seed(7))}\")\n",
    "print(f\"Вторая производная f'({seed(7)}) = {second_derivative_1(seed(7))}\")"
   ]
  }
 ],
 "metadata": {
  "kernelspec": {
   "display_name": "env",
   "language": "python",
   "name": "python3"
  },
  "language_info": {
   "codemirror_mode": {
    "name": "ipython",
    "version": 3
   },
   "file_extension": ".py",
   "mimetype": "text/x-python",
   "name": "python",
   "nbconvert_exporter": "python",
   "pygments_lexer": "ipython3",
   "version": "3.11.4"
  }
 },
 "nbformat": 4,
 "nbformat_minor": 2
}
