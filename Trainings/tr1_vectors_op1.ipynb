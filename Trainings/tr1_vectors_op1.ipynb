{
 "cells": [
  {
   "cell_type": "code",
   "execution_count": 1,
   "metadata": {},
   "outputs": [
    {
     "name": "stdout",
     "output_type": "stream",
     "text": [
      "Поэлементная сумма векторов [0.15416284 0.7400497  0.26331502 0.53373939] и [1 2 3 4] = [1.15416284 2.7400497  3.26331502 4.53373939]\n",
      "Поэлементная разность векторов [0.15416284 0.7400497  0.26331502 0.53373939] и [1 2 3 4] = [-0.84583716 -1.2599503  -2.73668498 -3.46626061]\n",
      "Поэлементное произведение векторов [0.15416284 0.7400497  0.26331502 0.53373939] и [1 2 3 4] = [0.15416284 1.48009939 0.78994505 2.13495757]\n",
      "Поэлементное деление векторов [0.15416284 0.7400497  0.26331502 0.53373939] и [1 2 3 4] = [0.15416284 0.37002485 0.08777167 0.13343485]\n"
     ]
    }
   ],
   "source": [
    "import numpy as np # comment\n",
    "\n",
    "\n",
    "def seed(seed_value):\n",
    "    np.random.seed(seed_value)\n",
    "    vec_1 = np.random.rand(4)\n",
    "    return vec_1\n",
    "\n",
    "\n",
    "def vector_arithmetic(vec_1):\n",
    "\n",
    "    vec_2 = np.array([1, 2, 3, 4])\n",
    "\n",
    "    addition_result = vec_1 + vec_2\n",
    "    subtraction_result = vec_1 - vec_2\n",
    "    elementwise_multiplication = vec_1 * vec_2\n",
    "    elementwise_division = vec_1 / vec_2\n",
    "\n",
    "    return vec_2, addition_result, subtraction_result, elementwise_multiplication, elementwise_division\n",
    "\n",
    "\n",
    "print(\n",
    "    f\"Поэлементная сумма векторов {seed(12)} и {vector_arithmetic(seed(12))[0]} = {vector_arithmetic(seed(12))[1]}\"\n",
    ")\n",
    "print(\n",
    "    f\"Поэлементная разность векторов {seed(12)} и {vector_arithmetic(seed(12))[0]} = {vector_arithmetic(seed(12))[2]}\"\n",
    ")\n",
    "print(\n",
    "    f\"Поэлементное произведение векторов {seed(12)} и {vector_arithmetic(seed(12))[0]} = {vector_arithmetic(seed(12))[3]}\"\n",
    ")\n",
    "print(\n",
    "    f\"Поэлементное деление векторов {seed(12)} и {vector_arithmetic(seed(12))[0]} = {vector_arithmetic(seed(12))[4]}\"\n",
    ")"
   ]
  },
  {
   "cell_type": "code",
   "execution_count": null,
   "metadata": {},
   "outputs": [],
   "source": []
  }
 ],
 "metadata": {
  "kernelspec": {
   "display_name": "env",
   "language": "python",
   "name": "python3"
  },
  "language_info": {
   "codemirror_mode": {
    "name": "ipython",
    "version": 3
   },
   "file_extension": ".py",
   "mimetype": "text/x-python",
   "name": "python",
   "nbconvert_exporter": "python",
   "pygments_lexer": "ipython3",
   "version": "3.12.3"
  }
 },
 "nbformat": 4,
 "nbformat_minor": 2
}
