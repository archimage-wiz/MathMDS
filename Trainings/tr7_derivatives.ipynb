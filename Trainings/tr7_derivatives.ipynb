{
 "cells": [
  {
   "cell_type": "code",
   "execution_count": 1,
   "metadata": {},
   "outputs": [
    {
     "name": "stdout",
     "output_type": "stream",
     "text": [
      "Первая производная f'(π/6) = 9.229\n",
      "Вторая производная f'(π/6) = -5.486\n",
      "Первая производная f'(π/1) = -28.687\n",
      "Вторая производная f'(π/1) = 72.729\n",
      "Первая производная f'(π/3) = 3.021\n",
      "Вторая производная f'(π/3) = -17.957\n"
     ]
    }
   ],
   "source": [
    "import random\n",
    "\n",
    "def seed(seed):\n",
    "    random.seed(seed)\n",
    "    det = random.choice([-6,-4,-3,-1,1,3,4,6])\n",
    "    val2 = math.pi/det\n",
    "    return val2, det\n",
    "\n",
    "import math\n",
    "\n",
    "def function_2(x):\n",
    "    return 4*math.sin(x**2) - 3*math.cos(2*x) + 2*math.sin(3*x)\n",
    "\n",
    "def first_derivative_2(x):\n",
    "    # Продолжите решение здесь\n",
    "    return 8*x*math.cos(x**2) + 6*math.sin(2*x) + 6*math.cos(3*x)\n",
    "\n",
    "def second_derivative_2(x):\n",
    "    # Продолжите решение здесь\n",
    "    return 2*(-8*x**2*math.sin(x**2) - 9*math.sin(3*x) + 6*math.cos(2*x) + 4*math.cos(x**2))\n",
    "\n",
    "print(f\"Первая производная f'(π/{seed(12)[1]}) = {round(first_derivative_2(seed(12)[0]),3)}\")\n",
    "print(f\"Вторая производная f'(π/{seed(12)[1]}) = {round(second_derivative_2(seed(12)[0]),3)}\")\n",
    "print(f\"Первая производная f'(π/{seed(45)[1]}) = {round(first_derivative_2(seed(45)[0]),3)}\")\n",
    "print(f\"Вторая производная f'(π/{seed(45)[1]}) = {round(second_derivative_2(seed(45)[0]),3)}\")\n",
    "print(f\"Первая производная f'(π/{seed(7)[1]}) = {round(first_derivative_2(seed(7)[0]),3)}\")\n",
    "print(f\"Вторая производная f'(π/{seed(7)[1]}) = {round(second_derivative_2(seed(7)[0]),3)}\")\n",
    "\n"
   ]
  }
 ],
 "metadata": {
  "kernelspec": {
   "display_name": "env",
   "language": "python",
   "name": "python3"
  },
  "language_info": {
   "codemirror_mode": {
    "name": "ipython",
    "version": 3
   },
   "file_extension": ".py",
   "mimetype": "text/x-python",
   "name": "python",
   "nbconvert_exporter": "python",
   "pygments_lexer": "ipython3",
   "version": "3.11.4"
  }
 },
 "nbformat": 4,
 "nbformat_minor": 2
}
