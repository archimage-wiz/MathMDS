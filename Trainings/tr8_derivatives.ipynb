{
 "cells": [
  {
   "cell_type": "code",
   "execution_count": 1,
   "metadata": {},
   "outputs": [
    {
     "name": "stdout",
     "output_type": "stream",
     "text": [
      "Первая производная f'(2) = 7.993\n",
      "Вторая производная f'(2) = 4.022\n",
      "Первая производная f'(-1) = -64.257\n",
      "Вторая производная f'(-1) = 184.77\n",
      "Первая производная f'(0) = -3.0\n",
      "Вторая производная f'(0) = 13.0\n"
     ]
    }
   ],
   "source": [
    "import random\n",
    "\n",
    "def seed(seed):\n",
    "    random.seed(seed)\n",
    "    val3 = random.choice(range(-5,6))\n",
    "    return val3\n",
    "\n",
    "import math\n",
    "\n",
    "def function_3(x):\n",
    "    return math.exp(-3*x) + 2*x**2 + 5\n",
    "\n",
    "def first_derivative_3(x):\n",
    "    # Продолжите решение здесь\n",
    "    return 4*x - 3*math.exp(-3*x)\n",
    "    \n",
    "def second_derivative_3(x):\n",
    "    # Продолжите решение здесь\n",
    "    return 4 + 9*math.exp(-3*x)\n",
    "\n",
    "print(f\"Первая производная f'({seed(12)}) = {round(first_derivative_3(seed(12)),3)}\")\n",
    "print(f\"Вторая производная f'({seed(12)}) = {round(second_derivative_3(seed(12)),3)}\")\n",
    "print(f\"Первая производная f'({seed(45)}) = {round(first_derivative_3(seed(45)),3)}\")\n",
    "print(f\"Вторая производная f'({seed(45)}) = {round(second_derivative_3(seed(45)),3)}\")\n",
    "print(f\"Первая производная f'({seed(7)}) = {round(first_derivative_3(seed(7)),3)}\")\n",
    "print(f\"Вторая производная f'({seed(7)}) = {round(second_derivative_3(seed(7)),3)}\")"
   ]
  }
 ],
 "metadata": {
  "kernelspec": {
   "display_name": "env",
   "language": "python",
   "name": "python3"
  },
  "language_info": {
   "codemirror_mode": {
    "name": "ipython",
    "version": 3
   },
   "file_extension": ".py",
   "mimetype": "text/x-python",
   "name": "python",
   "nbconvert_exporter": "python",
   "pygments_lexer": "ipython3",
   "version": "3.11.4"
  }
 },
 "nbformat": 4,
 "nbformat_minor": 2
}
