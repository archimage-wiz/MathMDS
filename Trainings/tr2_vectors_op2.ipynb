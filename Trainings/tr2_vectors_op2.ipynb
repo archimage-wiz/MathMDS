{
 "cells": [
  {
   "cell_type": "code",
   "execution_count": 1,
   "metadata": {},
   "outputs": [
    {
     "name": "stdout",
     "output_type": "stream",
     "text": [
      "Скалярное произведение векторов [0.15416284 0.7400497  0.26331502 0.53373939 0.01457496] и [5 4 3 2 1] = 5.603011792761401\n",
      "Сумма 0.7400496965154048 и [5 4 3 2 1] = [5.7400497 4.7400497 3.7400497 2.7400497 1.7400497]\n",
      "Произведение 0.014574962485419674 и [5 4 3 2 1] = [0.07287481 0.05829985 0.04372489 0.02914992 0.01457496]\n"
     ]
    }
   ],
   "source": [
    "import numpy as np\n",
    "\n",
    "def seed(seed_value):\n",
    "    np.random.seed(seed_value)\n",
    "    vec_1 = np.random.rand(5)\n",
    "    return vec_1\n",
    "\n",
    "def vector_arithmetic(vec_1):\n",
    "    \n",
    "    vec_2 = np.array([5,4,3,2,1])\n",
    "    \n",
    "    dot_product = np.dot(vec_1, vec_2)\n",
    "    scalar_addition = vec_2 + vec_1[1]\n",
    "    scalar_multiplication = vec_2 * vec_1[-1]\n",
    "\n",
    "    return vec_2, dot_product, scalar_addition, scalar_multiplication   \n",
    "\n",
    "print(f\"Скалярное произведение векторов {seed(12)} и {vector_arithmetic(seed(12))[0]} = {vector_arithmetic(seed(12))[1]}\")\n",
    "print(f\"Сумма {seed(12)[1]} и {vector_arithmetic(seed(12))[0]} = {vector_arithmetic(seed(12))[2]}\")\n",
    "print(f\"Произведение {seed(12)[-1]} и {vector_arithmetic(seed(12))[0]} = {vector_arithmetic(seed(12))[3]}\")"
   ]
  }
 ],
 "metadata": {
  "kernelspec": {
   "display_name": "env",
   "language": "python",
   "name": "python3"
  },
  "language_info": {
   "codemirror_mode": {
    "name": "ipython",
    "version": 3
   },
   "file_extension": ".py",
   "mimetype": "text/x-python",
   "name": "python",
   "nbconvert_exporter": "python",
   "pygments_lexer": "ipython3",
   "version": "3.11.4"
  }
 },
 "nbformat": 4,
 "nbformat_minor": 2
}
