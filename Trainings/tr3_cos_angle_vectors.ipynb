{
 "cells": [
  {
   "cell_type": "code",
   "execution_count": 2,
   "metadata": {},
   "outputs": [
    {
     "name": "stdout",
     "output_type": "stream",
     "text": [
      "Косинус угла между векторами [0.15416284 0.7400497  0.26331502 0.53373939 0.01457496 0.91874701] и [0.90071485 0.03342143 0.95694934 0.13720932 0.28382835 0.60608318] = 0.5326110513352398\n"
     ]
    }
   ],
   "source": [
    "import numpy as np\n",
    "\n",
    "\n",
    "def seed(seed_value):\n",
    "    np.random.seed(seed_value)\n",
    "    vec_1 = np.random.rand(6)\n",
    "    vec_2 = np.random.rand(6)\n",
    "    return vec_1, vec_2\n",
    "\n",
    "\n",
    "def cosine_similarity(vec_1, vec_2):\n",
    "\n",
    "    cosine_similarity = np.dot(vec_1, vec_2) / (np.linalg.norm(vec_1) * np.linalg.norm(vec_2))\n",
    "\n",
    "    return cosine_similarity\n",
    "\n",
    "\n",
    "print(\n",
    "    f\"Косинус угла между векторами {seed(12)[0]} и {seed(12)[1]} = {cosine_similarity(seed(12)[0], seed(12)[1])}\"\n",
    ")"
   ]
  }
 ],
 "metadata": {
  "kernelspec": {
   "display_name": "env",
   "language": "python",
   "name": "python3"
  },
  "language_info": {
   "codemirror_mode": {
    "name": "ipython",
    "version": 3
   },
   "file_extension": ".py",
   "mimetype": "text/x-python",
   "name": "python",
   "nbconvert_exporter": "python",
   "pygments_lexer": "ipython3",
   "version": "3.11.4"
  }
 },
 "nbformat": 4,
 "nbformat_minor": 2
}
