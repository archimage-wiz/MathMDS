{
 "cells": [
  {
   "cell_type": "code",
   "execution_count": 3,
   "metadata": {},
   "outputs": [],
   "source": [
    "import sympy as sym\n"
   ]
  },
  {
   "cell_type": "code",
   "execution_count": 4,
   "metadata": {},
   "outputs": [
    {
     "name": "stdout",
     "output_type": "stream",
     "text": [
      "8\n",
      "8.00000000000000\n"
     ]
    }
   ],
   "source": [
    "x = sym.Symbol('x')\n",
    "y = sym.Symbol('y')\n",
    "\n",
    "\n",
    "dx_f = sym.diff(x**2, x)\n",
    "\n",
    "print(dx_f.subs(x, 4))\n",
    "print(dx_f.evalf(subs={x: 4.0}))\n"
   ]
  },
  {
   "cell_type": "code",
   "execution_count": 9,
   "metadata": {},
   "outputs": [
    {
     "data": {
      "text/latex": [
       "$\\displaystyle 53.0$"
      ],
      "text/plain": [
       "53.0000000000000"
      ]
     },
     "execution_count": 9,
     "metadata": {},
     "output_type": "execute_result"
    }
   ],
   "source": [
    "f = 4*x**3 - 2*x**2 - 3*x + 3\n",
    "dx_f = sym.diff(f, x)\n",
    "dx_f.evalf(subs={x: -2})"
   ]
  },
  {
   "cell_type": "code",
   "execution_count": 8,
   "metadata": {},
   "outputs": [
    {
     "data": {
      "text/latex": [
       "$\\displaystyle -52$"
      ],
      "text/plain": [
       "-52"
      ]
     },
     "execution_count": 8,
     "metadata": {},
     "output_type": "execute_result"
    }
   ],
   "source": [
    "f = 12*x**2 - 4*x - 3\n",
    "dx_f = sym.diff(f, x)\n",
    "dx_f.subs(x, -2)"
   ]
  },
  {
   "cell_type": "code",
   "execution_count": 28,
   "metadata": {},
   "outputs": [
    {
     "data": {
      "text/latex": [
       "$\\displaystyle 9.23$"
      ],
      "text/plain": [
       "9.23"
      ]
     },
     "execution_count": 28,
     "metadata": {},
     "output_type": "execute_result"
    }
   ],
   "source": [
    "f = 4*sym.sin(x**2) - 3*sym.cos(2*x) + 2*sym.sin(3*x)\n",
    "dx_f = sym.diff(f, x)\n",
    "# print(sym.pi.evalf())\n",
    "# dx_f.subs(x, sym.pi/6)\n",
    "round(dx_f.evalf(subs={x: sym.pi / 6}), 2)"
   ]
  },
  {
   "cell_type": "code",
   "execution_count": 33,
   "metadata": {},
   "outputs": [
    {
     "data": {
      "text/latex": [
       "$\\displaystyle -5.49$"
      ],
      "text/plain": [
       "-5.49"
      ]
     },
     "execution_count": 33,
     "metadata": {},
     "output_type": "execute_result"
    }
   ],
   "source": [
    "f = 8*x*sym.cos(x**2) + 6*sym.sin(2*x) + 6*sym.cos(3*x)\n",
    "dx_f = sym.diff(f, x)\n",
    "round(dx_f.evalf(subs={x: sym.pi / 6}), 2)"
   ]
  },
  {
   "cell_type": "code",
   "execution_count": 34,
   "metadata": {},
   "outputs": [
    {
     "data": {
      "text/latex": [
       "$\\displaystyle 7.99$"
      ],
      "text/plain": [
       "7.99"
      ]
     },
     "execution_count": 34,
     "metadata": {},
     "output_type": "execute_result"
    }
   ],
   "source": [
    "f = sym.exp(-3*x) + 2*x**2 + 5\n",
    "dx_f = sym.diff(f, x)\n",
    "round(dx_f.evalf(subs={x: 2}), 2)"
   ]
  },
  {
   "cell_type": "code",
   "execution_count": 35,
   "metadata": {},
   "outputs": [
    {
     "data": {
      "text/latex": [
       "$\\displaystyle 4.02$"
      ],
      "text/plain": [
       "4.02"
      ]
     },
     "execution_count": 35,
     "metadata": {},
     "output_type": "execute_result"
    }
   ],
   "source": [
    "f = 4*x - 3*sym.exp(-3*x)\n",
    "dx_f = sym.diff(f, x)\n",
    "round(dx_f.evalf(subs={x: 2}), 2)"
   ]
  },
  {
   "cell_type": "code",
   "execution_count": 36,
   "metadata": {},
   "outputs": [
    {
     "data": {
      "text/latex": [
       "$\\displaystyle -6.47$"
      ],
      "text/plain": [
       "-6.47"
      ]
     },
     "execution_count": 36,
     "metadata": {},
     "output_type": "execute_result"
    }
   ],
   "source": [
    "f = sym.sin(x**2) - 3*sym.ln(x)\n",
    "dx_f = sym.diff(f, x)\n",
    "round(dx_f.evalf(subs={x: 3}), 2)"
   ]
  },
  {
   "cell_type": "code",
   "execution_count": 37,
   "metadata": {},
   "outputs": [
    {
     "data": {
      "text/latex": [
       "$\\displaystyle -16.33$"
      ],
      "text/plain": [
       "-16.33"
      ]
     },
     "execution_count": 37,
     "metadata": {},
     "output_type": "execute_result"
    }
   ],
   "source": [
    "f = 2*x*sym.cos(x**2) - 3/x\n",
    "dx_f = sym.diff(f, x)\n",
    "round(dx_f.evalf(subs={x: 3}), 2)"
   ]
  },
  {
   "cell_type": "code",
   "execution_count": 38,
   "metadata": {},
   "outputs": [
    {
     "data": {
      "text/latex": [
       "$\\displaystyle 1.19$"
      ],
      "text/plain": [
       "1.19"
      ]
     },
     "execution_count": 38,
     "metadata": {},
     "output_type": "execute_result"
    }
   ],
   "source": [
    "f = (x**3 + 3*x + 1) / (x**2 - 2*x + 5)\n",
    "dx_f = sym.diff(f, x)\n",
    "dx_f\n",
    "round(dx_f.evalf(subs={x: 4}), 2)"
   ]
  },
  {
   "cell_type": "code",
   "execution_count": 39,
   "metadata": {},
   "outputs": [
    {
     "data": {
      "text/latex": [
       "$\\displaystyle -0.16$"
      ],
      "text/plain": [
       "-0.16"
      ]
     },
     "execution_count": 39,
     "metadata": {},
     "output_type": "execute_result"
    }
   ],
   "source": [
    "f = (2 - 2*x)*(x**3 + 3*x + 1)/(x**2 - 2*x + 5)**2 + (3*x**2 + 3)/(x**2 - 2*x + 5)\n",
    "dx_f = sym.diff(f, x)\n",
    "dx_f\n",
    "round(dx_f.evalf(subs={x: 4}), 2)"
   ]
  },
  {
   "cell_type": "code",
   "execution_count": 40,
   "metadata": {},
   "outputs": [],
   "source": [
    "# f = (x**3 + 3*x + 1) / (x**2 - 2*x + 5)\n",
    "# dx_f = f.diff(x, 2)\n",
    "# dx_f.evalf(subs={x: 4})"
   ]
  }
 ],
 "metadata": {
  "kernelspec": {
   "display_name": "env",
   "language": "python",
   "name": "python3"
  },
  "language_info": {
   "codemirror_mode": {
    "name": "ipython",
    "version": 3
   },
   "file_extension": ".py",
   "mimetype": "text/x-python",
   "name": "python",
   "nbconvert_exporter": "python",
   "pygments_lexer": "ipython3",
   "version": "3.11.4"
  }
 },
 "nbformat": 4,
 "nbformat_minor": 2
}
